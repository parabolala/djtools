{
 "cells": [
  {
   "cell_type": "code",
   "execution_count": 1,
   "metadata": {},
   "outputs": [],
   "source": [
    "import dataclasses\n",
    "import os\n",
    "import plistlib\n",
    "import pprint\n",
    "import sqlite3\n",
    "import subprocess\n",
    "import tempfile\n",
    "\n",
    "from djtools.djay import models\n",
    "\n",
    "from bpylist import archiver, bplist\n",
    "\n",
    "db_path = os.getenv('HOME') + \"/Music/djay Pro 2/djay Media Library.djayMediaLibrary/MediaLibrary.db\""
   ]
  },
  {
   "cell_type": "code",
   "execution_count": 2,
   "metadata": {},
   "outputs": [
    {
     "name": "stdout",
     "output_type": "stream",
     "text": [
      "Opening /Users/yvaravva/Music/djay Pro 2/djay Media Library.djayMediaLibrary/MediaLibrary.db\n"
     ]
    }
   ],
   "source": [
    "print(\"Opening \" + db_path)\n",
    "conn = sqlite3.connect(db_path)\n",
    "c = conn.cursor()"
   ]
  },
  {
   "cell_type": "code",
   "execution_count": 3,
   "metadata": {},
   "outputs": [],
   "source": [
    "def decode_plist(plist_bytes):\n",
    "    # plistlib can't read binary plist, convert it to xml.\n",
    "    p = subprocess.Popen('plutil -convert xml1 - -o -'.split(), stdin=subprocess.PIPE, stdout=subprocess.PIPE)\n",
    "    stdout, stderr = p.communicate(plist_bytes)\n",
    "    xml_bytes = stdout\n",
    "    return decode_xml_plist(xml_bytes)\n",
    "\n",
    "def decode_xml_plist(xml_bytes):\n",
    "    return plistlib.loads(xml_bytes)\n"
   ]
  },
  {
   "cell_type": "code",
   "execution_count": 4,
   "metadata": {},
   "outputs": [],
   "source": [
    "query = \"select rowid, collection, key, data, metadata from database2;\"\n",
    "db = []\n",
    "for row in c.execute(query):\n",
    "    db.append(row)\n",
    "row_id_col, collection_col, key_col, data_col, metadata_col = range(5)\n",
    "def get_rows(key=None, collection=None):\n",
    "    results = []\n",
    "    for row in db:\n",
    "        if key is None or row[key_col] == key:\n",
    "            if collection is None or row[collection_col] == collection:\n",
    "                results.append(row)\n",
    "    return results\n",
    "\n",
    "def get_data(row):\n",
    "    return decode_plist(row[data_col])"
   ]
  },
  {
   "cell_type": "code",
   "execution_count": 5,
   "metadata": {},
   "outputs": [
    {
     "name": "stdout",
     "output_type": "stream",
     "text": [
      "{'$archiver': 'NSKeyedArchiver',\n",
      " '$objects': ['$null',\n",
      "              {'$class': {'CF$UID': 3},\n",
      "               'itemUUIDs': {'CF$UID': 0},\n",
      "               'uuid': {'CF$UID': 2}},\n",
      "              'queue-default',\n",
      "              {'$classes': ['ADCQueue',\n",
      "                            'ADCCloudDatabaseObject',\n",
      "                            'ADCDatabaseObject',\n",
      "                            'NSObject'],\n",
      "               '$classname': 'ADCQueue'}],\n",
      " '$top': {'root': {'CF$UID': 1}},\n",
      " '$version': 100000}\n"
     ]
    }
   ],
   "source": [
    "media_playlist_root = get_data(get_rows(key='mediaItemPlaylist-root')[0])\n",
    "queues = get_data(get_rows(key='queue-default')[0])\n",
    "\n",
    "pprint.pprint(queues)"
   ]
  },
  {
   "cell_type": "code",
   "execution_count": 6,
   "metadata": {},
   "outputs": [
    {
     "name": "stdout",
     "output_type": "stream",
     "text": [
      "['6047016a5115eaf3589b52f89ed44d0d']\n"
     ]
    }
   ],
   "source": [
    "media_item_ids = [row[key_col] for row in get_rows(collection='mediaItemTitleIDs')]\n",
    "print(media_item_ids)"
   ]
  },
  {
   "cell_type": "code",
   "execution_count": 7,
   "metadata": {},
   "outputs": [],
   "source": [
    "m_i_id = 0\n",
    "m_i_title = get_data(get_rows(collection='mediaItemTitleIDs', key=media_item_ids[m_i_id])[0])\n",
    "m_i_userdata = get_data(get_rows(collection='mediaItemUserData', key=media_item_ids[m_i_id])[0]) \n",
    "# pprint.pprint(m_i_title)\n",
    "# pprint.pprint(m_i_userdata)"
   ]
  },
  {
   "cell_type": "code",
   "execution_count": 8,
   "metadata": {},
   "outputs": [],
   "source": [
    "models.register()\n",
    "\n",
    "# row = get_rows(collection='mediaItemUserData', key=media_item_ids[m_i_id])[0]\n",
    "# row = get_rows(collection='mediaItemTitleIDs', key=media_item_ids[m_i_id])[0]\n",
    "# row = get_rows(collection='mediaItemAnalyzedData', key=media_item_ids[m_i_id])[0]\n",
    "row = get_rows(collection='localMediaItemLocations', key=media_item_ids[m_i_id])[0]\n",
    "\n",
    "# pprint.pprint(bplist.parse(row[data_col]))\n",
    "# pprint.pprint(archiver.unarchive(row[data_col]))"
   ]
  },
  {
   "cell_type": "code",
   "execution_count": 9,
   "metadata": {},
   "outputs": [
    {
     "name": "stdout",
     "output_type": "stream",
     "text": [
      "(b'bplist00\\xd4\\x00\\x01\\x00\\x03\\x00\\x05\\x00\\x18\\x00\\x02\\x00\\x04\\x00\\x06\\x00'\n",
      " b'\\x19Y$archiver_\\x10\\x0fNSKeyedArchiverX$version\\x12\\x00\\x01\\x86\\xa0X$objects'\n",
      " b'\\xa4\\x00\\x07\\x00\\x08\\x00\\x11\\x00\\x17U$null\\xd4\\x00\\t\\x00\\x0b\\x00\\r\\x00\\x0f'\n",
      " b'\\x00\\n\\x00\\x0c\\x00\\x0e\\x00\\x10V$class\\x80\\x02Wcomment\\x80\\x03Vnumber\\x10\\x03'\n",
      " b'Ttime#@.333333\\xd2\\x00\\x12\\x00\\x15\\x00\\x13\\x00\\x16X$classes\\xa1\\x00\\x14[ADCC'\n",
      " b'uePointZ$classname[ADCCuePointSfooT$top\\xd1\\x00\\x1a\\x00\\x1bTroot\\x80\\x01\\x08'\n",
      " b'\\x19#5>CLU[lsu}\\x7f\\x86\\x88\\x8d\\x96\\x9f\\xa8\\xab\\xb7\\xc2\\xce\\xd2'\n",
      " b'\\xd7\\xdc\\xe1\\x00\\x00\\x00\\x00\\x00\\x00\\x01\\x02\\x00\\x00\\x00\\x00\\x00'\n",
      " b'\\x00\\x00\\x1c\\x00\\x00\\x00\\x00\\x00\\x00\\x00\\x00\\x00\\x00\\x00\\x00\\x00'\n",
      " b'\\x00\\x00\\xe3')\n"
     ]
    }
   ],
   "source": [
    "import importlib\n",
    "importlib.reload(archiver)\n",
    "importlib.reload(models)\n",
    "library = {} \n",
    "\n",
    "# for item_id in media_item_ids:\n",
    "#     track = models.DjayTrack(\n",
    "#         title=archiver.unarchive(get_rows(collection='mediaItemTitleIDs', key=item_id)[0][data_col]),\n",
    "#         user_data=archiver.unarchive(get_rows(collection='mediaItemUserData', key=item_id)[0][data_col]),\n",
    "#         analysis=archiver.unarchive(get_rows(collection='mediaItemAnalyzedData', key=item_id)[0][data_col]),\n",
    "#         location=archiver.unarchive(get_rows(collection='localMediaItemLocations', key=item_id)[0][data_col]),\n",
    "#     )\n",
    "#     library[item_id] = track\n",
    "\n",
    "# pprint.pprint(list(library.values())[0].user_data)\n",
    "\n",
    "title = models.ADCMediaItemTitleID(\n",
    "    title='Title',\n",
    "    artist='Artist',\n",
    "    uuid='UUID',\n",
    "    internalID='UUID',\n",
    "    stringRepresentation='String Representation',\n",
    "    duration=15.5,\n",
    ")\n",
    "cuepoint = models.ADCCuePoint(\n",
    "    comment=\"foo\",\n",
    "    number=3,\n",
    "    time=15.1,\n",
    ")\n",
    "\n",
    "models.register()\n",
    "# archiver.update_class_map({'ADCMediaItemTitleID': models.ADCMediaItemTitleID})\n",
    "pprint.pprint(archiver.archive(cuepoint))\n",
    "# with open('/Users/yvaravva/local_src/pydjay/tests/fixtures/locationfoo.plist.xml', 'wb') as f:\n",
    "#     f.write((row[data_col]))"
   ]
  },
  {
   "cell_type": "code",
   "execution_count": 1,
   "metadata": {},
   "outputs": [],
   "source": [
    "from djtools.djay import Explorer\n",
    "\n",
    "DEFAULT_MEDIALIBRARY_DB_FILE = ('/Users/yvaravva/Music/djay Pro 2/'\n",
    "                                'djay Media Library.djayMediaLibrary/'\n",
    "                                'MediaLibrary.db')\n",
    "\n",
    "\n",
    "e = Explorer()\n",
    "# for t_id in e.get_track_ids():\n",
    "#     print(t_id)\n",
    "#     print(e.load_track(t_id))\n",
    "# print(e.find_track(artist='HVOB'))"
   ]
  },
  {
   "cell_type": "code",
   "execution_count": 11,
   "metadata": {},
   "outputs": [
    {
     "name": "stdout",
     "output_type": "stream",
     "text": [
      "Track(TrackID=5, Name='Sweet Jamaica', Artist='FeyDer', Album='', TotalTime=214, Location='file://localhost/Users/yvaravva/Downloads/FeyDer_-_Sweet_Jamaica_HQ%5bListenVid.com%5d.mp3', CuePoints=[CuePoint(Name='', Type=0, Start=1.444, Num=0, Red=230, Green=40, Blue=40), CuePoint(Name='', Type=0, Start=12.098, Num=1, Red=40, Green=226, Blue=20), CuePoint(Name='', Type=0, Start=172.113, Num=2, Red=230, Green=40, Blue=40), CuePoint(Name='', Type=0, Start=182.814, Num=3, Red=40, Green=226, Blue=20)])\n"
     ]
    }
   ],
   "source": [
    "from djtools import rekordbox\n",
    "from imp import reload; reload(rekordbox.models)\n",
    "# print(rekordbox.parse_xml_file())\n",
    "\n",
    "rbt = rekordbox.parse_xml_file()[0]\n",
    "print(rbt)"
   ]
  },
  {
   "cell_type": "code",
   "execution_count": 12,
   "metadata": {},
   "outputs": [
    {
     "name": "stdout",
     "output_type": "stream",
     "text": [
      "DjayTrack(title=ADCMediaItemTitleID(title='Sweet Jamaica', artist='FeyDer', stringRepresentation='sweet jamaica\\tfeyder\\t215', internalID='6047016a5115eaf3589b52f89ed44d0d', duration=214.98699951171875, uuid='6047016a5115eaf3589b52f89ed44d0d'), user_data=ADCMediaItemUserData(cuePoints=[ADCCuePoint(comment=None, number=1, time=1.0), ADCCuePoint(comment=None, number=2, time=5.099999904632568), ADCCuePoint(comment=None, number=3, time=7.111405849456787), ADCCuePoint(comment=None, number=4, time=1.5), ADCCuePoint(comment=None, number=5, time=1.7000000476837158), ADCCuePoint(comment=None, number=6, time=2.700000047683716), ADCCuePoint(comment=None, number=7, time=3.700000047683716), ADCCuePoint(comment=None, number=8, time=4.699999809265137)], endPoint=None, energy=0, highEQ=0.0, midEQ=0.0, lowEQ=0.0, linkedUserDataUUIDs=None, loopRegions=None, manualBPM=0.0, manualBeatTime=0.0, manualFirstDownBeatIndices=None, manualGridStartPoints=None, manualKeySignatureIndex=0, playCount=3, rating=0, startPoint=ADCCuePoint(comment=None, number=0, time=5.317959308624268), tagUUIDs=None, uuid='6047016a5115eaf3589b52f89ed44d0d', userChangedCloudKeys={'startPoint', 'playCount', 'cuePoints'}), analysis=ADCMediaItemAnalyzedData(bpm=89.99983978271484, keySignatureIndex=20, uuid='6047016a5115eaf3589b52f89ed44d0d'), location=ADCMediaItemLocation(sourceURIs={NSURL(NSrelative='com.apple.iTunes:8284744633573016391', NSbase=None)}, type=0, urlBookmarkData=NSMutableData(900 bytes), uuid='6047016a5115eaf3589b52f89ed44d0d'))\n"
     ]
    }
   ],
   "source": [
    "djt = e.get_all_tracks()[0]\n",
    "print(djt)"
   ]
  },
  {
   "cell_type": "code",
   "execution_count": 2,
   "metadata": {},
   "outputs": [],
   "source": [
    "import copy\n",
    "from typing import Iterable\n",
    "\n",
    "from djtools.djay import models as djmodels\n",
    "from djtools.rekordbox import models as rbmodels\n",
    "\n",
    "import imp\n",
    "imp.reload(djmodels)\n",
    "imp.reload(rbmodels)\n",
    "\n",
    "djmodels.register()\n",
    "\n",
    "def track_matches(dj_t: djmodels.DjayTrack, rb_t: rbmodels.Track):\n",
    "#     if dj_t.title.title != rb_t.Name:\n",
    "#         return False\n",
    "    if dj_t.title.artist != rb_t.Artist:\n",
    "        return False\n",
    "    if abs(dj_t.title.duration - rb_t.TotalTime) > 1:\n",
    "        return False\n",
    "    return True\n",
    "    \n",
    "\n",
    "def find_matching_track(dj_t: djmodels.DjayTrack, rb_ts: Iterable[rbmodels.Track]):\n",
    "    for rb_t in rb_ts:\n",
    "        if track_matches(dj_t, rb_t):\n",
    "            return rb_t\n",
    "        \n",
    "# match = find_matching_track(djt, [rbt])\n",
    "\n",
    "# pprint.pprint(djt.user_data.cuePoints)\n",
    "# pprint.pprint(match.CuePoints)\n",
    "\n",
    "def transfer_cue_points(rb_t: rbmodels.Track, dj_t: djmodels.DjayTrack):\n",
    "    result = copy.deepcopy(dj_t)\n",
    "    print(result.user_data.cuePoints)\n",
    "    result.user_data.cuePoints = []\n",
    "    for i, cp in enumerate(rb_t.CuePoints):\n",
    "        result.user_data.cuePoints.append(djmodels.ADCCuePoint(\n",
    "            comment=cp.Name,\n",
    "            number=i + 1,\n",
    "            time=cp.Start,        \n",
    "        ))\n",
    "    return result\n",
    "\n",
    "# res = transfer_cue_points(match, djt)\n",
    "\n",
    "# e.save_track(res)"
   ]
  },
  {
   "cell_type": "code",
   "execution_count": 3,
   "metadata": {},
   "outputs": [
    {
     "name": "stdout",
     "output_type": "stream",
     "text": [
      "FeyDer - Sweet Jamaica\n",
      "Track(TrackID=5, Name='Sweet Jamaica', Artist='FeyDer', Album='', TotalTime=214, Location='file://localhost/Users/yvaravva/Downloads/FeyDer_-_Sweet_Jamaica_HQ%5bListenVid.com%5d.mp3', CuePoints=[CuePoint(Name='', Type=0, Start=1.444, Num=0, Red=230, Green=40, Blue=40), CuePoint(Name='', Type=0, Start=12.098, Num=1, Red=40, Green=226, Blue=20), CuePoint(Name='', Type=0, Start=172.113, Num=2, Red=230, Green=40, Blue=40), CuePoint(Name='', Type=0, Start=182.814, Num=3, Red=40, Green=226, Blue=20)])\n",
      "[ADCCuePoint(comment='', number=1, time=1.444), ADCCuePoint(comment='', number=2, time=12.098), ADCCuePoint(comment='', number=3, time=172.113), ADCCuePoint(comment='', number=4, time=182.814)]\n",
      "===\n",
      "Astropilot - Veda (Feat. Mikrokosmos)\n",
      "Track(TrackID=6, Name='Veda (Feat. Mikrokosmos)', Artist='Astropilot', Album='Iriy', TotalTime=604, Location='file://localhost/Users/yvaravva/Downloads/Astropilot_Veda_Feat_Mikrokosmos__(44outdoors.com).mp3', CuePoints=[CuePoint(Name='', Type=0, Start=87.313, Num=0, Red=230, Green=40, Blue=40), CuePoint(Name='', Type=0, Start=96.04, Num=1, Red=40, Green=226, Blue=20), CuePoint(Name='', Type=0, Start=514.949, Num=2, Red=230, Green=40, Blue=40), CuePoint(Name='', Type=0, Start=523.676, Num=3, Red=40, Green=226, Blue=20)])\n",
      "[ADCCuePoint(comment='', number=1, time=87.313), ADCCuePoint(comment='', number=2, time=96.04), ADCCuePoint(comment='', number=3, time=514.949), ADCCuePoint(comment='', number=4, time=523.676)]\n",
      "===\n",
      "Joachim Pastor (feat. Florence Bird) - Wayfaring Stranger\n",
      "Track(TrackID=7, Name=' ', Artist='Joachim Pastor (feat. Florence Bird)', Album='', TotalTime=359, Location='file://localhost/Users/yvaravva/Downloads/Joachim_Pastor_AKA_AKA_Sandman_Feat_Florence_Bird__(44outdoors.com).mp3', CuePoints=[CuePoint(Name='', Type=0, Start=13.717, Num=0, Red=230, Green=40, Blue=40), CuePoint(Name='', Type=0, Start=21.522, Num=1, Red=40, Green=226, Blue=20), CuePoint(Name='', Type=0, Start=335.651, Num=2, Red=230, Green=40, Blue=40), CuePoint(Name='', Type=0, Start=343.512, Num=3, Red=40, Green=226, Blue=20)])\n",
      "[ADCCuePoint(comment='', number=1, time=13.717), ADCCuePoint(comment='', number=2, time=21.522), ADCCuePoint(comment='', number=3, time=335.651), ADCCuePoint(comment='', number=4, time=343.512)]\n",
      "===\n",
      "The Orb - Little Fluffy Clouds\n",
      "Track(TrackID=8, Name='Little Fluffy Clouds', Artist='The Orb', Album='', TotalTime=266, Location='file://localhost/Users/yvaravva/Downloads/The%20Orb%20-%20Little%20Fluffy%20Clouds.mp3', CuePoints=[CuePoint(Name='', Type=0, Start=0.0, Num=-1, Red=None, Green=None, Blue=None), CuePoint(Name='', Type=0, Start=35.574, Num=0, Red=40, Green=226, Blue=20), CuePoint(Name='', Type=0, Start=209.297, Num=1, Red=230, Green=40, Blue=40), CuePoint(Name='', Type=0, Start=218.439, Num=2, Red=40, Green=226, Blue=20)])\n",
      "[ADCCuePoint(comment='', number=1, time=0.0), ADCCuePoint(comment='', number=2, time=35.574), ADCCuePoint(comment='', number=3, time=209.297), ADCCuePoint(comment='', number=4, time=218.439)]\n",
      "===\n",
      "Recondite - Kauz\n",
      "Track(TrackID=10, Name='Kauz', Artist='Recondite', Album='', TotalTime=413, Location='file://localhost/Users/yvaravva/Downloads/Recondite_-_Kauz%5bListenVid.com%5d.mp3', CuePoints=[CuePoint(Name='', Type=0, Start=29.485, Num=0, Red=230, Green=40, Blue=40), CuePoint(Name='', Type=0, Start=37.289, Num=1, Red=40, Green=226, Blue=20), CuePoint(Name='', Type=0, Start=214.85, Num=2, Red=230, Green=40, Blue=40), CuePoint(Name='', Type=0, Start=222.655, Num=3, Red=40, Green=226, Blue=20)])\n",
      "None\n",
      "===\n",
      "HVOB - Jack\n",
      "Track(TrackID=9, Name='Jack', Artist='HVOB', Album='', TotalTime=316, Location='file://localhost/Users/yvaravva/Downloads/Hvob.mp3', CuePoints=[CuePoint(Name='', Type=0, Start=62.431, Num=0, Red=230, Green=40, Blue=40), CuePoint(Name='', Type=0, Start=70.432, Num=1, Red=40, Green=226, Blue=20), CuePoint(Name='', Type=0, Start=288.453, Num=2, Red=230, Green=40, Blue=40), CuePoint(Name='', Type=0, Start=296.454, Num=3, Red=40, Green=226, Blue=20)])\n",
      "None\n",
      "===\n",
      "CamelPhat&Elderbrook - Cola\n",
      "Track(TrackID=11, Name='Cola', Artist='CamelPhat&Elderbrook', Album='', TotalTime=415, Location='file://localhost/Users/yvaravva/Downloads/CamelPhat_Elderbrook_Cola_(liefond.com).mp3', CuePoints=[CuePoint(Name='', Type=0, Start=23.7, Num=0, Red=230, Green=40, Blue=40), CuePoint(Name='', Type=0, Start=31.548, Num=1, Red=40, Green=226, Blue=20), CuePoint(Name='', Type=0, Start=393.525, Num=2, Red=230, Green=40, Blue=40), CuePoint(Name='', Type=0, Start=401.393, Num=3, Red=40, Green=226, Blue=20)])\n",
      "None\n",
      "===\n",
      "Loc-Dog - Отвезите меня на техно\n",
      "Track(TrackID=12, Name='Отвезите меня на техно', Artist='Loc-Dog', Album='', TotalTime=221, Location='file://localhost/Users/yvaravva/Downloads/loc_dog_otvezite_mena_na_tehno.mp3', CuePoints=[CuePoint(Name='', Type=0, Start=2.016, Num=0, Red=230, Green=40, Blue=40), CuePoint(Name='', Type=0, Start=9.516, Num=1, Red=40, Green=226, Blue=20), CuePoint(Name='', Type=0, Start=200.766, Num=2, Red=230, Green=40, Blue=40), CuePoint(Name='', Type=0, Start=208.266, Num=3, Red=40, Green=226, Blue=20)])\n",
      "None\n",
      "===\n",
      "Грибы - Бери Грибы\n",
      "Track(TrackID=14, Name='Бери Грибы', Artist='Грибы', Album='', TotalTime=189, Location='file://localhost/Users/yvaravva/Downloads/Griby_-_Beri_Griby.mp3', CuePoints=[CuePoint(Name='', Type=0, Start=15.031, Num=0, Red=40, Green=226, Blue=20), CuePoint(Name='', Type=0, Start=22.442, Num=1, Red=195, Green=175, Blue=4), CuePoint(Name='', Type=0, Start=148.416, Num=2, Red=230, Green=40, Blue=40), CuePoint(Name='', Type=0, Start=155.826, Num=3, Red=40, Green=226, Blue=20)])\n",
      "None\n",
      "===\n",
      "Emanuel Satie Feat. Billy Cobham - Don't Forget To Go Home\n",
      "Track(TrackID=15, Name=\"Don't Forget To Go Home\", Artist='Emanuel Satie Feat. Billy Cobham', Album='', TotalTime=222, Location='file://localhost/Users/yvaravva/Downloads/Emanuel%20Satie%20Feat.%20Billy%20Cobham%20Dont%20Forget%20To%20Go%20Home%20(Original%20Radio%20Edit).mp3', CuePoints=[CuePoint(Name='', Type=0, Start=0.226, Num=0, Red=230, Green=40, Blue=40), CuePoint(Name='', Type=0, Start=5.986, Num=1, Red=40, Green=226, Blue=20)])\n",
      "None\n",
      "===\n",
      "Moderat - A New Error (Original Mix)\n",
      "Track(TrackID=16, Name='A New Error (Original Mix)', Artist='Moderat', Album='', TotalTime=367, Location='file://localhost/Users/yvaravva/Downloads/Moderat-A_New_Error_(Original_Mix).mp3', CuePoints=[CuePoint(Name='', Type=0, Start=17.209, Num=0, Red=230, Green=40, Blue=40), CuePoint(Name='', Type=0, Start=25.858, Num=1, Red=40, Green=226, Blue=20), CuePoint(Name='', Type=0, Start=298.809, Num=2, Red=230, Green=40, Blue=40), CuePoint(Name='', Type=0, Start=307.457, Num=3, Red=40, Green=226, Blue=20)])\n",
      "None\n",
      "===\n",
      "Грибы - Intro\n",
      "Track(TrackID=18, Name='Intro', Artist='Грибы', Album='Intro - Single', TotalTime=167, Location='file://localhost/Users/yvaravva/Downloads/%d0%b3%d1%80%d0%b8%d0%b1%d1%8b-intro.mp3', CuePoints=[CuePoint(Name='', Type=0, Start=0.115, Num=0, Red=230, Green=40, Blue=40), CuePoint(Name='', Type=0, Start=8.115, Num=1, Red=40, Green=226, Blue=20), CuePoint(Name='', Type=0, Start=144.114, Num=2, Red=230, Green=40, Blue=40), CuePoint(Name='', Type=0, Start=152.114, Num=3, Red=40, Green=226, Blue=20)])\n",
      "None\n",
      "===\n",
      "HVOB - Tender Skin\n",
      "Track(TrackID=19, Name='Tender Skin', Artist='HVOB', Album='', TotalTime=435, Location='file://localhost/Users/yvaravva/Downloads/GenYoutube.net_HVOB-Tender-Skin-Official-Music-Video_51lp0rhuIkg.mp3', CuePoints=[CuePoint(Name='', Type=0, Start=106.568, Num=0, Red=230, Green=40, Blue=40), CuePoint(Name='', Type=0, Start=114.773, Num=1, Red=40, Green=226, Blue=20), CuePoint(Name='', Type=0, Start=222.466, Num=2, Red=230, Green=40, Blue=40), CuePoint(Name='', Type=0, Start=230.671, Num=3, Red=40, Green=226, Blue=20)])\n",
      "None\n",
      "===\n",
      "Joachim Pastor (feat. Florence Bird) -  \n",
      "Track(TrackID=7, Name=' ', Artist='Joachim Pastor (feat. Florence Bird)', Album='', TotalTime=359, Location='file://localhost/Users/yvaravva/Downloads/Joachim_Pastor_AKA_AKA_Sandman_Feat_Florence_Bird__(44outdoors.com).mp3', CuePoints=[CuePoint(Name='', Type=0, Start=13.717, Num=0, Red=230, Green=40, Blue=40), CuePoint(Name='', Type=0, Start=21.522, Num=1, Red=40, Green=226, Blue=20), CuePoint(Name='', Type=0, Start=335.651, Num=2, Red=230, Green=40, Blue=40), CuePoint(Name='', Type=0, Start=343.512, Num=3, Red=40, Green=226, Blue=20)])\n",
      "None\n",
      "===\n",
      "Moderat - Bad Kingdom\n",
      "Track(TrackID=17, Name='Bad Kingdom', Artist='Moderat', Album='', TotalTime=262, Location='file://localhost/Users/yvaravva/Downloads/Moderat-Bad_Kingdom.mp3', CuePoints=[CuePoint(Name='', Type=0, Start=2.109, Num=0, Red=230, Green=40, Blue=40), CuePoint(Name='', Type=0, Start=10.252, Num=1, Red=40, Green=226, Blue=20), CuePoint(Name='', Type=0, Start=240.092, Num=2, Red=230, Green=40, Blue=40), CuePoint(Name='', Type=0, Start=248.215, Num=3, Red=40, Green=226, Blue=20), CuePoint(Name='', Type=0, Start=256.347, Num=4, Red=48, Green=90, Blue=255)])\n",
      "None\n",
      "===\n"
     ]
    }
   ],
   "source": [
    "e.load()\n",
    "\n",
    "from djtools import rekordbox\n",
    "\n",
    "rbts = rekordbox.parse_xml_file()\n",
    "\n",
    "for dj_t in e.get_all_tracks():\n",
    "    print(dj_t.title.artist + ' - ' + dj_t.title.title)\n",
    "    match = find_matching_track(dj_t, rbts)\n",
    "    print(match)\n",
    "    e.save_track(transfer_cue_points(match, dj_t))\n",
    "    print('===')\n",
    "    "
   ]
  }
 ],
 "metadata": {
  "kernelspec": {
   "display_name": "Python 3",
   "language": "python",
   "name": "python3"
  },
  "language_info": {
   "codemirror_mode": {
    "name": "ipython",
    "version": 3
   },
   "file_extension": ".py",
   "mimetype": "text/x-python",
   "name": "python",
   "nbconvert_exporter": "python",
   "pygments_lexer": "ipython3",
   "version": "3.6.5"
  }
 },
 "nbformat": 4,
 "nbformat_minor": 2
}
